import pandas as pd

import numpy as np

import matplotlib.pyplot as plt

import datetime as dt 

from sklearn.preprocessing import MinMaxScaler

from tensorflow.keras.layers import Dense, Dropout, LSTM

from tensorflow.keras.models import Sequential

import yfinance as yf

import mplfinance as mpf

import seaborn as sns

plt.style.use('fivethirtyeight')
### LAY MA CO PHIEU ###
df = yf.Ticker("VIC.VN")



pd.set_option('display.max_rows', None)



df_data = df.history(period="max")

df_data.info()

for key, value in df.info.items():

    print(key, ":", value)
# draw general candle plots

mpf.plot(df_data, type = 'candle', volume =True, style = 'yahoo', mav = (3,6,9))

# draw line chart using seaborn

fig, ax = plt.subplots(figsize=(32, 10), dpi=100)

ax.set_title(" CLOSE Price from 01/07-31/07")

ax.set_xlabel("Date")

ax.set_ylabel("CLOSE Price")

sns.lineplot(data=df_data["Close"], palette= ['red'], linewidth=5, legend=True )

plt.show()

### ***BUILD MODEL***
X = df_data.values

y = df_data['Close']
scaler = MinMaxScaler(feature_range=(0,1))

scaled_data = scaler.fit_transform(y.values.reshape(-1,1)) 

scaled_data
import math
dataset = y.values
training_data_len  = math.ceil(len(dataset)*.8)

training_data_len
prediction_days = 60

future = 30

# give detail of the chart (split data into x_train, y_train) 

x_train = []

y_train =[]



for x in range(prediction_days, len(scaled_data)-future):

    x_train.append(scaled_data[x-prediction_days:x,0])

    y_train.append(scaled_data[x+future,0])

    

x_train = np.array(x_train)

y_train = np.array(y_train)

x_train = np.reshape(x_train, (x_train.shape[0], x_train.shape[1],1))
# create model LSTM

model = Sequential()

model.add(LSTM(units = 50, return_sequences = True, input_shape = (x_train.shape[1],1)))

model.add(Dropout(0,2))

model.add(LSTM(units = 50, return_sequences = True))

model.add(Dropout(0,2))

model.add(LSTM(units = 50))

model.add(Dropout(0,2))

model.add(Dense(units = 1))

#compiling and training 

model.compile(optimizer = 'adam', loss ='mean_squared_error')

# epochs: How many times the data is trained in network

# batch_size: The number of training samples in the network at once 

model.fit(x_train, y_train, epochs  = 25, batch_size = 30)
test_data = scaled_data[training_data_len - prediction_days: , :]
X_test = []
y_test = scaled_data[training_data_len - prediction_days + prediction_days:, 0]

for x in range(prediction_days, len(test_data)):
    X_test.append(test_data[x-prediction_days:x, 0])

X_test = np.array(X_test)
X_test = np.reshape(X_test, (X_test.shape[0], X_test.shape[1], 1))

predicted_price = model.predict(X_test)
predicted_price = scaler.inverse_transform(predicted_price)
train = df_data[:training_data_len]
valid = df_data[training_data_len:]
valid['Prediction'] = predicted_price
valid['Prediction'] = valid['Prediction'].astype(float)


plt.figure(figsize = (13,8))
plt.title('PREDICTION')
plt.xlabel('DATE', fontsize  = 18)
plt.ylabel('PRICE',fontsize  = 18)
plt.plot(train['Close'])
plt.plot(valid['Close'])
plt.plot(valid['Prediction'])
plt.legend(['Train', 'Valid', 'Prediction'], loc = 'lower right')
plt.show()
